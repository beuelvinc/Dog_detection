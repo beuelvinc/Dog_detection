{
 "cells": [
  {
   "cell_type": "code",
   "execution_count": 2,
   "metadata": {},
   "outputs": [],
   "source": [
    "import tensorflow as tf\n",
    "import numpy as np\n",
    "from pathlib import Path\n",
    "from tensorflow.keras.preprocessing import image\n",
    "import joblib"
   ]
  },
  {
   "cell_type": "code",
   "execution_count": 5,
   "metadata": {},
   "outputs": [],
   "source": [
    "x_train=joblib.load(\"x_train.bat\")\n",
    "y_train=joblib.load(\"y_train.bat\")"
   ]
  },
  {
   "cell_type": "code",
   "execution_count": 6,
   "metadata": {},
   "outputs": [],
   "source": [
    "model=tf.keras.Sequential([\n",
    "    tf.keras.layers.Flatten(input_shape=x_train.shape[1:]),\n",
    "\n",
    "    tf.keras.layers.Dense(256,activation='relu'),\n",
    "    tf.keras.layers.Dropout(0.5),\n",
    "\n",
    "    tf.keras.layers.Dense(1,activation='softmax'),\n",
    "])"
   ]
  },
  {
   "cell_type": "code",
   "execution_count": 7,
   "metadata": {},
   "outputs": [],
   "source": [
    "model.compile(loss='binary_crossentropy',optimizer='adam',metrics=['accuracy'])"
   ]
  },
  {
   "cell_type": "code",
   "execution_count": 15,
   "metadata": {},
   "outputs": [
    {
     "name": "stdout",
     "output_type": "stream",
     "text": [
      "Train on 58 samples\n",
      "Epoch 1/50\n",
      "58/58 [==============================] - 0s 965us/sample - loss: 8.4597 - accuracy: 0.4483\n",
      "Epoch 2/50\n",
      "58/58 [==============================] - 0s 257us/sample - loss: 8.4597 - accuracy: 0.4483\n",
      "Epoch 3/50\n",
      "58/58 [==============================] - 0s 411us/sample - loss: 8.4597 - accuracy: 0.4483\n",
      "Epoch 4/50\n",
      "58/58 [==============================] - 0s 461us/sample - loss: 8.4597 - accuracy: 0.4483\n",
      "Epoch 5/50\n",
      "58/58 [==============================] - 0s 380us/sample - loss: 8.4597 - accuracy: 0.4483\n",
      "Epoch 6/50\n",
      "58/58 [==============================] - 0s 493us/sample - loss: 8.4597 - accuracy: 0.4483\n",
      "Epoch 7/50\n",
      "58/58 [==============================] - 0s 427us/sample - loss: 8.4597 - accuracy: 0.4483\n",
      "Epoch 8/50\n",
      "58/58 [==============================] - 0s 280us/sample - loss: 8.4597 - accuracy: 0.4483\n",
      "Epoch 9/50\n",
      "58/58 [==============================] - 0s 425us/sample - loss: 8.4597 - accuracy: 0.4483\n",
      "Epoch 10/50\n",
      "58/58 [==============================] - 0s 332us/sample - loss: 8.4597 - accuracy: 0.4483\n",
      "Epoch 11/50\n",
      "58/58 [==============================] - 0s 384us/sample - loss: 8.4597 - accuracy: 0.4483\n",
      "Epoch 12/50\n",
      "58/58 [==============================] - 0s 307us/sample - loss: 8.4597 - accuracy: 0.4483\n",
      "Epoch 13/50\n",
      "58/58 [==============================] - 0s 459us/sample - loss: 8.4597 - accuracy: 0.4483\n",
      "Epoch 14/50\n",
      "58/58 [==============================] - 0s 323us/sample - loss: 8.4597 - accuracy: 0.4483\n",
      "Epoch 15/50\n",
      "58/58 [==============================] - 0s 397us/sample - loss: 8.4597 - accuracy: 0.4483\n",
      "Epoch 16/50\n",
      "58/58 [==============================] - 0s 308us/sample - loss: 8.4597 - accuracy: 0.4483\n",
      "Epoch 17/50\n",
      "58/58 [==============================] - 0s 294us/sample - loss: 8.4597 - accuracy: 0.4483\n",
      "Epoch 18/50\n",
      "58/58 [==============================] - 0s 343us/sample - loss: 8.4597 - accuracy: 0.4483\n",
      "Epoch 19/50\n",
      "58/58 [==============================] - 0s 401us/sample - loss: 8.4597 - accuracy: 0.4483\n",
      "Epoch 20/50\n",
      "58/58 [==============================] - 0s 389us/sample - loss: 8.4597 - accuracy: 0.4483\n",
      "Epoch 21/50\n",
      "58/58 [==============================] - 0s 491us/sample - loss: 8.4597 - accuracy: 0.4483\n",
      "Epoch 22/50\n",
      "58/58 [==============================] - ETA: 0s - loss: 9.1041 - accuracy: 0.40 - 0s 394us/sample - loss: 8.4597 - accuracy: 0.4483\n",
      "Epoch 23/50\n",
      "58/58 [==============================] - 0s 349us/sample - loss: 8.4597 - accuracy: 0.4483\n",
      "Epoch 24/50\n",
      "58/58 [==============================] - 0s 477us/sample - loss: 8.4597 - accuracy: 0.4483\n",
      "Epoch 25/50\n",
      "58/58 [==============================] - 0s 334us/sample - loss: 8.4597 - accuracy: 0.4483\n",
      "Epoch 26/50\n",
      "58/58 [==============================] - 0s 441us/sample - loss: 8.4597 - accuracy: 0.4483\n",
      "Epoch 27/50\n",
      "58/58 [==============================] - 0s 467us/sample - loss: 8.4597 - accuracy: 0.4483\n",
      "Epoch 28/50\n",
      "58/58 [==============================] - 0s 426us/sample - loss: 8.4597 - accuracy: 0.4483\n",
      "Epoch 29/50\n",
      "58/58 [==============================] - 0s 316us/sample - loss: 8.4597 - accuracy: 0.4483\n",
      "Epoch 30/50\n",
      "58/58 [==============================] - 0s 303us/sample - loss: 8.4597 - accuracy: 0.4483\n",
      "Epoch 31/50\n",
      "58/58 [==============================] - 0s 339us/sample - loss: 8.4597 - accuracy: 0.4483\n",
      "Epoch 32/50\n",
      "58/58 [==============================] - 0s 270us/sample - loss: 8.4597 - accuracy: 0.4483\n",
      "Epoch 33/50\n",
      "58/58 [==============================] - 0s 230us/sample - loss: 8.4597 - accuracy: 0.4483\n",
      "Epoch 34/50\n",
      "58/58 [==============================] - 0s 404us/sample - loss: 8.4597 - accuracy: 0.4483\n",
      "Epoch 35/50\n",
      "58/58 [==============================] - 0s 284us/sample - loss: 8.4597 - accuracy: 0.4483\n",
      "Epoch 36/50\n",
      "58/58 [==============================] - 0s 384us/sample - loss: 8.4597 - accuracy: 0.4483\n",
      "Epoch 37/50\n",
      "58/58 [==============================] - 0s 222us/sample - loss: 8.4597 - accuracy: 0.4483\n",
      "Epoch 38/50\n",
      "58/58 [==============================] - 0s 272us/sample - loss: 8.4597 - accuracy: 0.4483\n",
      "Epoch 39/50\n",
      "58/58 [==============================] - 0s 318us/sample - loss: 8.4597 - accuracy: 0.4483\n",
      "Epoch 40/50\n",
      "58/58 [==============================] - 0s 281us/sample - loss: 8.4597 - accuracy: 0.4483\n",
      "Epoch 41/50\n",
      "58/58 [==============================] - 0s 286us/sample - loss: 8.4597 - accuracy: 0.4483\n",
      "Epoch 42/50\n",
      "58/58 [==============================] - 0s 312us/sample - loss: 8.4597 - accuracy: 0.4483\n",
      "Epoch 43/50\n",
      "58/58 [==============================] - 0s 265us/sample - loss: 8.4597 - accuracy: 0.4483\n",
      "Epoch 44/50\n",
      "58/58 [==============================] - 0s 363us/sample - loss: 8.4597 - accuracy: 0.4483\n",
      "Epoch 45/50\n",
      "58/58 [==============================] - 0s 345us/sample - loss: 8.4597 - accuracy: 0.4483\n",
      "Epoch 46/50\n",
      "58/58 [==============================] - 0s 368us/sample - loss: 8.4597 - accuracy: 0.4483\n",
      "Epoch 47/50\n",
      "58/58 [==============================] - 0s 325us/sample - loss: 8.4597 - accuracy: 0.4483\n",
      "Epoch 48/50\n",
      "58/58 [==============================] - 0s 326us/sample - loss: 8.4597 - accuracy: 0.4483\n",
      "Epoch 49/50\n",
      "58/58 [==============================] - ETA: 0s - loss: 9.1041 - accuracy: 0.40 - 0s 482us/sample - loss: 8.4597 - accuracy: 0.4483\n",
      "Epoch 50/50\n",
      "58/58 [==============================] - 0s 383us/sample - loss: 8.4597 - accuracy: 0.4483\n"
     ]
    },
    {
     "data": {
      "text/plain": [
       "<tensorflow.python.keras.callbacks.History at 0x7fec0c1fcc10>"
      ]
     },
     "execution_count": 15,
     "metadata": {},
     "output_type": "execute_result"
    }
   ],
   "source": [
    "model.fit(x_train,y_train,epochs=50,shuffle=True)"
   ]
  },
  {
   "cell_type": "code",
   "execution_count": 16,
   "metadata": {},
   "outputs": [],
   "source": [
    "model_structure=model.to_json()\n",
    "f=Path(\"model_structure.json\")\n",
    "f.write_text(model_structure)\n",
    "\n",
    "model.save_weights(\"model_weights.h5\")\n"
   ]
  },
  {
   "cell_type": "code",
   "execution_count": null,
   "metadata": {},
   "outputs": [],
   "source": [
    "\n",
    "\n",
    "\n",
    "# Create a model and add layers\n",
    "model = Sequential()\n",
    "\n",
    "model.add(Flatten(input_shape=x_train.shape[1:]))\n",
    "model.add(Dense(256, activation='relu'))\n",
    "model.add(Dropout(0.5))\n",
    "model.add(Dense(1, activation='sigmoid'))\n",
    "\n",
    "# Compile the model\n",
    "model.compile(\n",
    "    loss=\"binary_crossentropy\",\n",
    "    optimizer=\"adam\",\n",
    "    metrics=['accuracy']\n",
    ")\n",
    "\n",
    "# Train the model\n",
    "model.fit(\n",
    "    x_train,\n",
    "    y_train,\n",
    "    epochs=10,\n",
    "    shuffle=True\n",
    ")\n",
    "\n",
    "# Save neural network structure\n",
    "model_structure = model.to_json()\n",
    "f = Path(\"model_structure.json\")\n",
    "f.write_text(model_structure)\n",
    "\n",
    "# Save neural network's trained weights\n",
    "model.save_weights(\"model_weights.h5\")"
   ]
  }
 ],
 "metadata": {
  "kernelspec": {
   "display_name": "Python 3",
   "language": "python",
   "name": "python3"
  },
  "language_info": {
   "codemirror_mode": {
    "name": "ipython",
    "version": 3
   },
   "file_extension": ".py",
   "mimetype": "text/x-python",
   "name": "python",
   "nbconvert_exporter": "python",
   "pygments_lexer": "ipython3",
   "version": "3.7.4"
  }
 },
 "nbformat": 4,
 "nbformat_minor": 4
}
